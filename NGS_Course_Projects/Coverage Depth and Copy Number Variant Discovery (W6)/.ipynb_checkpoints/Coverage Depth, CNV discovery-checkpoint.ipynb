{
 "cells": [
  {
   "cell_type": "markdown",
   "id": "5f1a39aa",
   "metadata": {},
   "source": [
    "Goal: Devise a crude method to detect insertion/deletion mutations and a large copy number variant."
   ]
  },
  {
   "cell_type": "markdown",
   "id": "1fe6308a",
   "metadata": {},
   "source": [
    "Data comes from:\n",
    "Flowers JM, Hazzouri KM, Pham GM, et al. Whole-Genome Resequencing Reveals Extensive Natural Variation in the Model Green Alga Chlamydomonas reinhardtii. Plant Cell. 2015;27(9):2353-2369. doi:10.1105/tpc.15.00492"
   ]
  },
  {
   "cell_type": "markdown",
   "id": "477bf98b",
   "metadata": {},
   "source": [
    "### Summarize coverage and insert size distribution from BAM alignments"
   ]
  },
  {
   "cell_type": "markdown",
   "id": "cc87f175",
   "metadata": {},
   "source": [
    "Summarizing genomewide coverage information in BAM alignment(s)."
   ]
  },
  {
   "cell_type": "markdown",
   "id": "94999327",
   "metadata": {},
   "source": [
    "Use Samtools stats program to determine coverage (average coverage genomewide) for paired-end (2 x 51 PE) reads from a Chlamydomonas strain (CC-2342). Capture the STDOUT using Unix redirection (“>”)."
   ]
  },
  {
   "cell_type": "markdown",
   "id": "18372025",
   "metadata": {},
   "source": [
    "Run slurm script:"
   ]
  },
  {
   "cell_type": "code",
   "execution_count": null,
   "id": "0fed1229",
   "metadata": {},
   "outputs": [],
   "source": [
    "#!/bin/bash\n",
    "#\n",
    "#SBATCH --nodes=1\n",
    "#SBATCH --tasks-per-node=1\n",
    "#SBATCH --cpus-per-task=1\n",
    "#SBATCH --time=2:00:00\n",
    "#SBATCH --mem=8GB\n",
    "#SBATCH --job-name=slurm_week5_task3\n",
    "#SBATCH --mail-type=FAIL,END\n",
    "#SBATCH --mail-user=<dq2033@nyu.edu>\n",
    "\n",
    "module purge\n",
    "\n",
    "module load samtools/intel/1.14\n",
    "\n",
    "samtools stats CR2342.bam > CR2342_coverage_stats"
   ]
  },
  {
   "cell_type": "code",
   "execution_count": null,
   "id": "4cc749ce",
   "metadata": {},
   "outputs": [],
   "source": [
    "sbatch week6slurmtask1.sh "
   ]
  },
  {
   "cell_type": "markdown",
   "id": "7ebeae72",
   "metadata": {},
   "source": [
    "Check job status"
   ]
  },
  {
   "cell_type": "code",
   "execution_count": null,
   "id": "5033f83e",
   "metadata": {},
   "outputs": [],
   "source": [
    "[dq2033@cs004 Task1]$ seff 15738677 \n",
    "Job ID: 15738677\n",
    "Cluster: greene\n",
    "User/Group: dq2033/dq2033\n",
    "State: COMPLETED (exit code 0)\n",
    "Cores: 1\n",
    "CPU Utilized: 00:05:21\n",
    "CPU Efficiency: 98.77% of 00:05:25 core-walltime\n",
    "Job Wall-clock time: 00:05:25\n",
    "Memory Utilized: 2.78 MB\n",
    "Memory Efficiency: 0.03% of 8.00 GB"
   ]
  },
  {
   "cell_type": "code",
   "execution_count": null,
   "id": "5f309c25",
   "metadata": {},
   "outputs": [],
   "source": []
  }
 ],
 "metadata": {
  "kernelspec": {
   "display_name": "Python 3 (ipykernel)",
   "language": "python",
   "name": "python3"
  },
  "language_info": {
   "codemirror_mode": {
    "name": "ipython",
    "version": 3
   },
   "file_extension": ".py",
   "mimetype": "text/x-python",
   "name": "python",
   "nbconvert_exporter": "python",
   "pygments_lexer": "ipython3",
   "version": "3.8.8"
  }
 },
 "nbformat": 4,
 "nbformat_minor": 5
}
